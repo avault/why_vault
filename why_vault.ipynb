{
 "cells": [
  {
   "cell_type": "markdown",
   "metadata": {},
   "source": [
    "# Why vault?"
   ]
  },
  {
   "cell_type": "markdown",
   "metadata": {},
   "source": [
    "## Because there are a lot of things we don't know about the world."
   ]
  },
  {
   "cell_type": "markdown",
   "metadata": {},
   "source": [
    "There are $\\gtrsim$ 2000 standard high school experiments ([using the number of science fair projects available freely online as an estimate](https://www.education.com/science-fair/)).\n",
    "\n",
    "[There are $\\sim 15,000,000$ students in the US.](https://nces.ed.gov/fastfacts/display.asp?id=372)"
   ]
  },
  {
   "cell_type": "markdown",
   "metadata": {},
   "source": [
    "If each high school experiment represents a chunk of interesting information about the world, then that means there are $\\sim 8,000$ students per chunk of interesting information, in this context."
   ]
  },
  {
   "cell_type": "markdown",
   "metadata": {},
   "source": [
    "[The US government alone has $\\gtrsim 300,000$ data sets freely available.](https://www.data.gov/)\n",
    "\n",
    "[There are up to $\\sim 1,000,000$ people worldwide with an active interest in exploring data. However, only $\\sim 100,000$ of them explore data as a career.](https://www.kdnuggets.com/2018/09/how-many-data-scientists-are-there.html)"
   ]
  },
  {
   "cell_type": "markdown",
   "metadata": {},
   "source": [
    "If each dataset represents a chunk of interesting about the world, then that means there are $\\sim \\frac13 - 3$ people per chunk of interesting information, in this context."
   ]
  },
  {
   "cell_type": "markdown",
   "metadata": {},
   "source": [
    "## Because the skills you'll learn are widely used."
   ]
  },
  {
   "cell_type": "markdown",
   "metadata": {},
   "source": [
    "[The median starting data scientist salary is $\\sim \\$80,000$.](https://stackoverflow.com/jobs/salary) The pay is good because the skills are useful."
   ]
  },
  {
   "cell_type": "markdown",
   "metadata": {},
   "source": [
    "## Because you don't have many opportunities to learn this material."
   ]
  },
  {
   "cell_type": "markdown",
   "metadata": {},
   "source": [
    "There are roughly 1,000,000 HS teachers ([Using a ratio of students to teachers of $\\approx 16$](https://nces.ed.gov/fastfacts/display.asp?id=372)). So unless there's strong overlap with the group of people interested in exploring data and those who are teachers, you aren't likely to have a teacher equipped to help you explore data."
   ]
  },
  {
   "cell_type": "markdown",
   "metadata": {},
   "source": [
    "# What skills does it take to be a participant in vault?"
   ]
  },
  {
   "cell_type": "markdown",
   "metadata": {},
   "source": [
    "None, at least to start out."
   ]
  },
  {
   "cell_type": "markdown",
   "metadata": {},
   "source": [
    "### Skills you'll learn"
   ]
  },
  {
   "cell_type": "markdown",
   "metadata": {},
   "source": [
    "* Independence (because you will be discovering new things *there's no step-by-step guide*).\n",
    "* Using industry-standard communication tools (Slack and Git).\n",
    "* Collaboration.\n",
    "* Googling.\n",
    "* Analysis tools (most-important is probably Python)\n",
    "* Science communication."
   ]
  },
  {
   "cell_type": "code",
   "execution_count": null,
   "metadata": {},
   "outputs": [],
   "source": []
  }
 ],
 "metadata": {
  "kernelspec": {
   "display_name": "Python [conda env:py36]",
   "language": "python",
   "name": "conda-env-py36-py"
  },
  "language_info": {
   "codemirror_mode": {
    "name": "ipython",
    "version": 3
   },
   "file_extension": ".py",
   "mimetype": "text/x-python",
   "name": "python",
   "nbconvert_exporter": "python",
   "pygments_lexer": "ipython3",
   "version": "3.6.1"
  }
 },
 "nbformat": 4,
 "nbformat_minor": 2
}
